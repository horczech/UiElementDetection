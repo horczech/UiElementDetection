{
 "cells": [
  {
   "cell_type": "code",
   "execution_count": 1,
   "metadata": {},
   "outputs": [],
   "source": [
    "import ipywidgets as widgets\n",
    "from IPython.display import display\n",
    "import matplotlib.pyplot as plt\n",
    "import numpy as np\n",
    "import cv2\n",
    "\n",
    "# %matplotlib widget\n",
    "# %pylab inline\n",
    "# %matplotlib notebook\n",
    "\n"
   ]
  },
  {
   "cell_type": "code",
   "execution_count": 2,
   "metadata": {},
   "outputs": [],
   "source": [
    "IMG_DIR_PATH = r'C:\\Code\\Dataset2\\images\\printer'\n",
    "\n",
    "moire_img_path = r\"C:\\Code\\Dataset2\\images\\printer\\17.png\"\n",
    "android_img_path = r\"C:\\Code\\Dataset2\\images\\android_original\\438.png\"\n",
    "\n",
    "\n",
    "# img_paths = get_paths_of_files_with_suffix(IMG_DIR_PATH, '.png')\n",
    "\n",
    "\n"
   ]
  },
  {
   "cell_type": "code",
   "execution_count": 3,
   "metadata": {},
   "outputs": [],
   "source": [
    "img_origo = cv2.imread(moire_img_path)\n",
    "img_origo = cv2.cvtColor(img_origo, cv2.COLOR_RGB2BGR)\n",
    "\n"
   ]
  },
  {
   "cell_type": "code",
   "execution_count": 5,
   "metadata": {},
   "outputs": [
    {
     "data": {
      "application/vnd.jupyter.widget-view+json": {
       "model_id": "eca9d3937f664c91b3404b647cba9a4f",
       "version_major": 2,
       "version_minor": 0
      },
      "text/plain": [
       "Canvas(toolbar=Toolbar(toolitems=[('Home', 'Reset original view', 'home', 'home'), ('Back', 'Back to previous …"
      ]
     },
     "metadata": {},
     "output_type": "display_data"
    },
    {
     "data": {
      "text/plain": [
       "<matplotlib.image.AxesImage at 0x11f11b19898>"
      ]
     },
     "execution_count": 5,
     "metadata": {},
     "output_type": "execute_result"
    }
   ],
   "source": [
    "%matplotlib widget\n",
    "\n",
    "plt.rcParams['figure.figsize'] = [10, 5]\n",
    "plt.imshow(img_origo)\n"
   ]
  },
  {
   "cell_type": "markdown",
   "metadata": {},
   "source": [
    "# Gausian blur"
   ]
  },
  {
   "cell_type": "code",
   "execution_count": 13,
   "metadata": {},
   "outputs": [
    {
     "data": {
      "application/vnd.jupyter.widget-view+json": {
       "model_id": "555a7d2a86c04107ad7bef3796de1385",
       "version_major": 2,
       "version_minor": 0
      },
      "text/plain": [
       "interactive(children=(IntSlider(value=3, description='Kernel Size:', max=10, min=3, step=2), IntSlider(value=0…"
      ]
     },
     "metadata": {},
     "output_type": "display_data"
    }
   ],
   "source": [
    "def update_blur(k_size,gama, sigmaColor,sigmaSpace):\n",
    "    %matplotlib widget\n",
    "\n",
    "#     img_gaussian = cv2.GaussianBlur(img_origo, (k_size,k_size), gama)\n",
    "    img_gaussian = cv2.bilateralFilter(img_origo, k_size, sigmaColor, sigmaSpace)\n",
    "\n",
    "#     img_gaussian = cv2.medianBlur(img_origo, k_size)\n",
    "\n",
    "    plt.rcParams['figure.figsize'] = [10, 5]\n",
    "    plt.imshow(img_gaussian)\n",
    "\n",
    "kernel_size = widgets.IntSlider(min=3, max=10, value=1, step=2,description=\"Kernel Size:\")\n",
    "gama = widgets.IntSlider(min=0, max=10, value=0, step=1,description=\"Gamma:\")\n",
    "sigmaColor  = widgets.IntSlider(min=0, max=200, value=0, step=1,description=\"sigmaColor:\")\n",
    "sigmaSpace = widgets.IntSlider(min=0, max=200, value=0, step=1,description=\"sigmaSpace:\")\n",
    "\n",
    "\n",
    "\n",
    "widgets.interactive(update_blur,  k_size=kernel_size,gama=gama,sigmaColor=sigmaColor,sigmaSpace=sigmaSpace)\n"
   ]
  },
  {
   "cell_type": "markdown",
   "metadata": {},
   "source": [
    "# Fourier Transform"
   ]
  },
  {
   "cell_type": "code",
   "execution_count": null,
   "metadata": {},
   "outputs": [],
   "source": [
    "%matplotlib widget\n",
    "\n",
    "img_gray = cv2.cvtColor(img_origo, cv2.COLOR_BGR2GRAY)\n",
    "\n",
    "plt.imshow(img_gray, cmap='gray')\n",
    "\n",
    "\n"
   ]
  },
  {
   "cell_type": "code",
   "execution_count": null,
   "metadata": {},
   "outputs": [],
   "source": [
    "%matplotlib widget\n",
    "\n",
    "\n",
    "dft = cv2.dft(np.float32(img_gray),flags = cv2.DFT_COMPLEX_OUTPUT)\n",
    "dft_shift = np.fft.fftshift(dft)\n",
    "\n",
    "magnitude_spectrum = 20*np.log(cv2.magnitude(dft_shift[:,:,0],dft_shift[:,:,1]))\n",
    "\n",
    "plt.imshow(magnitude_spectrum, cmap='gray')"
   ]
  },
  {
   "cell_type": "code",
   "execution_count": null,
   "metadata": {},
   "outputs": [],
   "source": [
    "%matplotlib widget\n",
    "\n",
    "radius = 100\n",
    "\n",
    "rows, cols = img_gray.shape\n",
    "crow,ccol = int(rows/2) , int(cols/2)\n",
    "\n",
    "# create a mask first, center square is 1, remaining all zeros\n",
    "mask = np.zeros((rows,cols,2),np.uint8)\n",
    "mask[crow-radius:crow+radius, ccol-radius:ccol+radius] = 1\n",
    "\n",
    "# apply mask and inverse DFT\n",
    "fshift = dft_shift*mask\n",
    "f_ishift = np.fft.ifftshift(fshift)\n",
    "img_back = cv2.idft(f_ishift)\n",
    "img_back = cv2.magnitude(img_back[:,:,0],img_back[:,:,1])\n",
    "\n",
    "\n",
    "plt.imshow(img_back, cmap='gray')"
   ]
  },
  {
   "cell_type": "code",
   "execution_count": null,
   "metadata": {},
   "outputs": [],
   "source": [
    "%matplotlib widget\n",
    "\n",
    "\n",
    "dft = cv2.dft(np.float32(img_back),flags = cv2.DFT_COMPLEX_OUTPUT)\n",
    "dft_shift = np.fft.fftshift(dft)\n",
    "\n",
    "magnitude_spectrum = 20*np.log(cv2.magnitude(dft_shift[:,:,0],dft_shift[:,:,1]))\n",
    "\n",
    "plt.imshow(magnitude_spectrum, cmap='gray')"
   ]
  },
  {
   "cell_type": "code",
   "execution_count": null,
   "metadata": {},
   "outputs": [],
   "source": [
    "%matplotlib widget\n",
    "\n",
    "\n",
    "plt.imshow(img_gray, cmap='gray')"
   ]
  },
  {
   "cell_type": "code",
   "execution_count": null,
   "metadata": {},
   "outputs": [],
   "source": [
    "img_float = "
   ]
  }
 ],
 "metadata": {
  "kernelspec": {
   "display_name": "Python 3",
   "language": "python",
   "name": "python3"
  },
  "language_info": {
   "codemirror_mode": {
    "name": "ipython",
    "version": 3
   },
   "file_extension": ".py",
   "mimetype": "text/x-python",
   "name": "python",
   "nbconvert_exporter": "python",
   "pygments_lexer": "ipython3",
   "version": "3.6.10"
  }
 },
 "nbformat": 4,
 "nbformat_minor": 4
}
